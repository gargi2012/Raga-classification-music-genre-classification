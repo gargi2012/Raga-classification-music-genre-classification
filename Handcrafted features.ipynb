{
 "cells": [
  {
   "cell_type": "code",
   "execution_count": 1,
   "id": "441663dc",
   "metadata": {},
   "outputs": [],
   "source": [
    "import os\n",
    "import numpy as np \n",
    "import pandas as pd \n",
    "import librosa\n",
    "import itertools\n",
    "import matplotlib.pyplot as plt\n",
    "from scipy.stats import kurtosis\n",
    "from scipy.stats import skew\n",
    "from copy import copy\n",
    "from collections import OrderedDict"
   ]
  },
  {
   "cell_type": "code",
   "execution_count": 2,
   "id": "bd22c3c4",
   "metadata": {},
   "outputs": [],
   "source": [
    "import sklearn\n",
    "\n",
    "from sklearn.preprocessing import StandardScaler\n",
    "from sklearn.metrics import accuracy_score\n",
    "from sklearn.metrics import confusion_matrix\n",
    "from sklearn.pipeline import Pipeline\n",
    "from sklearn.feature_selection import SelectKBest\n",
    "from sklearn.model_selection import GridSearchCV\n",
    "from sklearn.model_selection import train_test_split\n",
    "\n",
    "from sklearn.decomposition import PCA\n",
    "from sklearn.manifold import TSNE\n",
    "from sklearn.discriminant_analysis import LinearDiscriminantAnalysis as LDA\n",
    "\n",
    "from sklearn.feature_selection import VarianceThreshold\n",
    "from sklearn.feature_selection import SelectFromModel\n",
    "\n",
    "import lightgbm as lgbm\n",
    "from sklearn.linear_model import LogisticRegression\n",
    "from sklearn.linear_model import SGDClassifier\n",
    "from sklearn.tree import DecisionTreeClassifier\n",
    "from sklearn.ensemble import RandomForestClassifier\n",
    "from sklearn.svm import SVC"
   ]
  },
  {
   "cell_type": "code",
   "execution_count": 3,
   "id": "e7c3d487",
   "metadata": {},
   "outputs": [],
   "source": [
    "import tensorflow as tf\n",
    "from tensorflow.keras.utils import to_categorical\n",
    "from tensorflow.keras.models import Model\n",
    "from tensorflow.keras.layers import Input\n",
    "from tensorflow.keras.models import Sequential\n",
    "from tensorflow.keras.layers import Add\n",
    "from tensorflow.keras.layers import Dense\n",
    "from tensorflow.keras.layers import Activation\n",
    "from tensorflow.keras.layers import PReLU\n",
    "from tensorflow.keras.layers import Conv2D\n",
    "from tensorflow.keras.layers import MaxPooling2D\n",
    "from tensorflow.keras.layers import AveragePooling2D\n",
    "from tensorflow.keras.layers import GlobalAveragePooling2D\n",
    "from tensorflow.keras.layers import GlobalMaxPooling2D\n",
    "from tensorflow.keras.layers import Dropout\n",
    "from tensorflow.keras.layers import Flatten\n",
    "from tensorflow.keras.layers import BatchNormalization\n",
    "from tensorflow.keras.callbacks import ReduceLROnPlateau"
   ]
  },
  {
   "cell_type": "code",
   "execution_count": 4,
   "id": "a7fed40e",
   "metadata": {},
   "outputs": [],
   "source": [
    "# Set the seed\n",
    "np.random.seed(42)"
   ]
  },
  {
   "cell_type": "code",
   "execution_count": 5,
   "id": "7895b566",
   "metadata": {},
   "outputs": [],
   "source": [
    "dir = r'C:\\Users\\User\\OneDrive\\Desktop\\research Upasana\\Split'"
   ]
  },
  {
   "cell_type": "code",
   "execution_count": 6,
   "id": "43c5a0c8",
   "metadata": {},
   "outputs": [],
   "source": [
    "song_samples = 1058\n",
    "ragas = {'asavari':0,\n",
    "         'bageshree':1,\n",
    "         'Bhairavi':2,\n",
    "         'bhoop':3,\n",
    "         'DKanada':4,\n",
    "         'malkauns':5,\n",
    "         'sarang':6,\n",
    "         'yaman':7}"
   ]
  },
  {
   "cell_type": "code",
   "execution_count": 7,
   "id": "46fea6e9",
   "metadata": {},
   "outputs": [],
   "source": [
    "# Get statistics from the vectors\n",
    "def get_moments(descriptors):\n",
    "    result = {}\n",
    "    for k, v in descriptors.items():\n",
    "        result['{}_max'.format(k)] = np.max(v)\n",
    "        result['{}_min'.format(k)] = np.min(v)\n",
    "        result['{}_mean'.format(k)] = np.mean(v)\n",
    "        result['{}_std'.format(k)] = np.std(v)\n",
    "        result['{}_kurtosis'.format(k)] = kurtosis(v)\n",
    "        result['{}_skew'.format(k)] = skew(v)\n",
    "    return result"
   ]
  },
  {
   "cell_type": "code",
   "execution_count": 8,
   "id": "e49a6a10",
   "metadata": {},
   "outputs": [],
   "source": [
    "def get_features(y, sr, n_fft = 1024, hop_length = 512):\n",
    "    # Features to concatenate in the final dictionary\n",
    "    features = {'centroid': None, 'roloff': None, 'flux': None, 'rmse': None,\n",
    "                'zcr': None, 'contrast': None, 'bandwidth': None, 'flatness': None}\n",
    "    \n",
    "    # Count silence\n",
    "    if 0 < len(y):\n",
    "        y_sound, _ = librosa.effects.trim(y, frame_length=n_fft, hop_length=hop_length)\n",
    "    features['sample_silence'] = len(y) - len(y_sound)\n",
    "\n",
    "    # Using librosa to calculate the features\n",
    "    features['centroid'] = librosa.feature.spectral_centroid(y, sr=sr, n_fft=n_fft, hop_length=hop_length).ravel()\n",
    "    features['roloff'] = librosa.feature.spectral_rolloff(y, sr=sr, n_fft=n_fft, hop_length=hop_length).ravel()\n",
    "    features['zcr'] = librosa.feature.zero_crossing_rate(y, frame_length=n_fft, hop_length=hop_length).ravel()\n",
    "    features['rmse'] = librosa.feature.rms(y, frame_length=n_fft, hop_length=hop_length).ravel()\n",
    "    features['flux'] = librosa.onset.onset_strength(y=y, sr=sr).ravel()\n",
    "    features['contrast'] = librosa.feature.spectral_contrast(y, sr=sr).ravel()\n",
    "    features['bandwidth'] = librosa.feature.spectral_bandwidth(y, sr=sr, n_fft=n_fft, hop_length=hop_length).ravel()\n",
    "    features['flatness'] = librosa.feature.spectral_flatness(y, n_fft=n_fft, hop_length=hop_length).ravel()\n",
    "    \n",
    "    # MFCC treatment\n",
    "    mfcc = librosa.feature.mfcc(y, n_fft = n_fft, hop_length = hop_length, n_mfcc=13)\n",
    "    for idx, v_mfcc in enumerate(mfcc):\n",
    "        features['mfcc_{}'.format(idx)] = v_mfcc.ravel()\n",
    "        \n",
    "    dict_agg_features = get_moments(features)\n",
    "    dict_agg_features['tempo'] = librosa.beat.tempo(y, sr=sr)[0]\n",
    "    \n",
    "    return dict_agg_features"
   ]
  },
  {
   "cell_type": "code",
   "execution_count": 9,
   "id": "2c355516",
   "metadata": {},
   "outputs": [],
   "source": [
    "def read_process_songs(src_dir, debug = True):    \n",
    "    # Empty array of dicts with the processed features from all files\n",
    "    arr_features = []\n",
    "\n",
    "    # Read files from the folders\n",
    "    for x,_ in ragas.items():\n",
    "        folder = src_dir +'\\\\'+ x\n",
    "        \n",
    "        for root, subdirs, files in os.walk(folder):\n",
    "            for file in files:\n",
    "                # Read the audio file\n",
    "                file_name = folder + \"\\\\\" + file\n",
    "                signal, sr = librosa.load(file_name)\n",
    "                \n",
    "                # Debug process\n",
    "                if debug:\n",
    "                    print(\"Reading file: {}\".format(file_name))\n",
    "                \n",
    "                # Append the result to the data structure\n",
    "                features = get_features(signal, sr)\n",
    "                features['raga'] = ragas[x]\n",
    "                arr_features.append(features)\n",
    "    return arr_features"
   ]
  },
  {
   "cell_type": "code",
   "execution_count": 10,
   "id": "dc688e51",
   "metadata": {},
   "outputs": [
    {
     "name": "stdout",
     "output_type": "stream",
     "text": [
      "Wall time: 33min 38s\n"
     ]
    }
   ],
   "source": [
    "%%time\n",
    "\n",
    "# Get list of dicts with features and convert to dataframe\n",
    "features = read_process_songs(dir, debug=False)"
   ]
  },
  {
   "cell_type": "code",
   "execution_count": 11,
   "id": "f939395c",
   "metadata": {},
   "outputs": [],
   "source": [
    "df_features = pd.DataFrame(features)"
   ]
  },
  {
   "cell_type": "code",
   "execution_count": 12,
   "id": "135ecfd9",
   "metadata": {},
   "outputs": [
    {
     "data": {
      "text/plain": [
       "(1252, 134)"
      ]
     },
     "execution_count": 12,
     "metadata": {},
     "output_type": "execute_result"
    }
   ],
   "source": [
    "df_features.shape"
   ]
  },
  {
   "cell_type": "code",
   "execution_count": 13,
   "id": "412604c5",
   "metadata": {},
   "outputs": [
    {
     "data": {
      "text/html": [
       "<div>\n",
       "<style scoped>\n",
       "    .dataframe tbody tr th:only-of-type {\n",
       "        vertical-align: middle;\n",
       "    }\n",
       "\n",
       "    .dataframe tbody tr th {\n",
       "        vertical-align: top;\n",
       "    }\n",
       "\n",
       "    .dataframe thead th {\n",
       "        text-align: right;\n",
       "    }\n",
       "</style>\n",
       "<table border=\"1\" class=\"dataframe\">\n",
       "  <thead>\n",
       "    <tr style=\"text-align: right;\">\n",
       "      <th></th>\n",
       "      <th>centroid_max</th>\n",
       "      <th>centroid_min</th>\n",
       "      <th>centroid_mean</th>\n",
       "      <th>centroid_std</th>\n",
       "      <th>centroid_kurtosis</th>\n",
       "      <th>centroid_skew</th>\n",
       "      <th>roloff_max</th>\n",
       "      <th>roloff_min</th>\n",
       "      <th>roloff_mean</th>\n",
       "      <th>roloff_std</th>\n",
       "      <th>...</th>\n",
       "      <th>mfcc_11_kurtosis</th>\n",
       "      <th>mfcc_11_skew</th>\n",
       "      <th>mfcc_12_max</th>\n",
       "      <th>mfcc_12_min</th>\n",
       "      <th>mfcc_12_mean</th>\n",
       "      <th>mfcc_12_std</th>\n",
       "      <th>mfcc_12_kurtosis</th>\n",
       "      <th>mfcc_12_skew</th>\n",
       "      <th>tempo</th>\n",
       "      <th>raga</th>\n",
       "    </tr>\n",
       "  </thead>\n",
       "  <tbody>\n",
       "    <tr>\n",
       "      <th>0</th>\n",
       "      <td>2073.982055</td>\n",
       "      <td>964.770221</td>\n",
       "      <td>1171.337116</td>\n",
       "      <td>100.299005</td>\n",
       "      <td>15.296142</td>\n",
       "      <td>1.979773</td>\n",
       "      <td>4328.173828</td>\n",
       "      <td>1313.525391</td>\n",
       "      <td>1868.592413</td>\n",
       "      <td>285.351099</td>\n",
       "      <td>...</td>\n",
       "      <td>-0.034480</td>\n",
       "      <td>-0.018860</td>\n",
       "      <td>29.381794</td>\n",
       "      <td>-20.639980</td>\n",
       "      <td>7.335072</td>\n",
       "      <td>10.873636</td>\n",
       "      <td>-0.579042</td>\n",
       "      <td>-0.374615</td>\n",
       "      <td>117.453835</td>\n",
       "      <td>0</td>\n",
       "    </tr>\n",
       "    <tr>\n",
       "      <th>1</th>\n",
       "      <td>1504.468277</td>\n",
       "      <td>883.225115</td>\n",
       "      <td>1149.249471</td>\n",
       "      <td>111.021068</td>\n",
       "      <td>0.313219</td>\n",
       "      <td>0.589173</td>\n",
       "      <td>2670.117188</td>\n",
       "      <td>1335.058594</td>\n",
       "      <td>1763.174644</td>\n",
       "      <td>294.034289</td>\n",
       "      <td>...</td>\n",
       "      <td>-0.134276</td>\n",
       "      <td>0.016921</td>\n",
       "      <td>27.500496</td>\n",
       "      <td>-28.568312</td>\n",
       "      <td>-5.020803</td>\n",
       "      <td>10.777459</td>\n",
       "      <td>-0.412058</td>\n",
       "      <td>0.315966</td>\n",
       "      <td>172.265625</td>\n",
       "      <td>0</td>\n",
       "    </tr>\n",
       "    <tr>\n",
       "      <th>2</th>\n",
       "      <td>1510.494331</td>\n",
       "      <td>984.539104</td>\n",
       "      <td>1212.915395</td>\n",
       "      <td>114.032797</td>\n",
       "      <td>-0.864509</td>\n",
       "      <td>0.117347</td>\n",
       "      <td>2648.583984</td>\n",
       "      <td>1399.658203</td>\n",
       "      <td>1817.282437</td>\n",
       "      <td>273.815598</td>\n",
       "      <td>...</td>\n",
       "      <td>-0.225098</td>\n",
       "      <td>0.212718</td>\n",
       "      <td>26.891628</td>\n",
       "      <td>-32.471771</td>\n",
       "      <td>-7.612918</td>\n",
       "      <td>10.550886</td>\n",
       "      <td>-0.142515</td>\n",
       "      <td>0.452324</td>\n",
       "      <td>172.265625</td>\n",
       "      <td>0</td>\n",
       "    </tr>\n",
       "    <tr>\n",
       "      <th>3</th>\n",
       "      <td>1534.270752</td>\n",
       "      <td>929.865965</td>\n",
       "      <td>1138.171915</td>\n",
       "      <td>85.585473</td>\n",
       "      <td>1.699763</td>\n",
       "      <td>0.567919</td>\n",
       "      <td>3143.847656</td>\n",
       "      <td>1399.658203</td>\n",
       "      <td>1750.584465</td>\n",
       "      <td>279.741313</td>\n",
       "      <td>...</td>\n",
       "      <td>-0.178609</td>\n",
       "      <td>0.243193</td>\n",
       "      <td>16.349447</td>\n",
       "      <td>-24.276566</td>\n",
       "      <td>-4.581534</td>\n",
       "      <td>8.007316</td>\n",
       "      <td>-0.397369</td>\n",
       "      <td>0.057298</td>\n",
       "      <td>172.265625</td>\n",
       "      <td>0</td>\n",
       "    </tr>\n",
       "    <tr>\n",
       "      <th>4</th>\n",
       "      <td>1674.304462</td>\n",
       "      <td>918.171659</td>\n",
       "      <td>1193.111998</td>\n",
       "      <td>123.236465</td>\n",
       "      <td>0.523370</td>\n",
       "      <td>0.389244</td>\n",
       "      <td>3746.777344</td>\n",
       "      <td>1399.658203</td>\n",
       "      <td>1871.190387</td>\n",
       "      <td>324.795818</td>\n",
       "      <td>...</td>\n",
       "      <td>-0.136827</td>\n",
       "      <td>0.151055</td>\n",
       "      <td>16.993633</td>\n",
       "      <td>-30.525286</td>\n",
       "      <td>-3.450526</td>\n",
       "      <td>9.835612</td>\n",
       "      <td>-0.628334</td>\n",
       "      <td>-0.212860</td>\n",
       "      <td>172.265625</td>\n",
       "      <td>0</td>\n",
       "    </tr>\n",
       "  </tbody>\n",
       "</table>\n",
       "<p>5 rows × 134 columns</p>\n",
       "</div>"
      ],
      "text/plain": [
       "   centroid_max  centroid_min  centroid_mean  centroid_std  centroid_kurtosis  \\\n",
       "0   2073.982055    964.770221    1171.337116    100.299005          15.296142   \n",
       "1   1504.468277    883.225115    1149.249471    111.021068           0.313219   \n",
       "2   1510.494331    984.539104    1212.915395    114.032797          -0.864509   \n",
       "3   1534.270752    929.865965    1138.171915     85.585473           1.699763   \n",
       "4   1674.304462    918.171659    1193.111998    123.236465           0.523370   \n",
       "\n",
       "   centroid_skew   roloff_max   roloff_min  roloff_mean  roloff_std  ...  \\\n",
       "0       1.979773  4328.173828  1313.525391  1868.592413  285.351099  ...   \n",
       "1       0.589173  2670.117188  1335.058594  1763.174644  294.034289  ...   \n",
       "2       0.117347  2648.583984  1399.658203  1817.282437  273.815598  ...   \n",
       "3       0.567919  3143.847656  1399.658203  1750.584465  279.741313  ...   \n",
       "4       0.389244  3746.777344  1399.658203  1871.190387  324.795818  ...   \n",
       "\n",
       "   mfcc_11_kurtosis  mfcc_11_skew  mfcc_12_max  mfcc_12_min  mfcc_12_mean  \\\n",
       "0         -0.034480     -0.018860    29.381794   -20.639980      7.335072   \n",
       "1         -0.134276      0.016921    27.500496   -28.568312     -5.020803   \n",
       "2         -0.225098      0.212718    26.891628   -32.471771     -7.612918   \n",
       "3         -0.178609      0.243193    16.349447   -24.276566     -4.581534   \n",
       "4         -0.136827      0.151055    16.993633   -30.525286     -3.450526   \n",
       "\n",
       "   mfcc_12_std  mfcc_12_kurtosis  mfcc_12_skew       tempo  raga  \n",
       "0    10.873636         -0.579042     -0.374615  117.453835     0  \n",
       "1    10.777459         -0.412058      0.315966  172.265625     0  \n",
       "2    10.550886         -0.142515      0.452324  172.265625     0  \n",
       "3     8.007316         -0.397369      0.057298  172.265625     0  \n",
       "4     9.835612         -0.628334     -0.212860  172.265625     0  \n",
       "\n",
       "[5 rows x 134 columns]"
      ]
     },
     "execution_count": 13,
     "metadata": {},
     "output_type": "execute_result"
    }
   ],
   "source": [
    "df_features.head()"
   ]
  },
  {
   "cell_type": "code",
   "execution_count": 14,
   "id": "f31c104b",
   "metadata": {},
   "outputs": [],
   "source": [
    "df_features.to_csv('raga_features.csv', index=False)"
   ]
  },
  {
   "cell_type": "code",
   "execution_count": 15,
   "id": "3eda9740",
   "metadata": {},
   "outputs": [],
   "source": [
    "X = df_features.drop(['raga'], axis=1).values\n",
    "y = df_features['raga'].values"
   ]
  },
  {
   "cell_type": "markdown",
   "id": "e205626e",
   "metadata": {},
   "source": [
    "### Visualization"
   ]
  },
  {
   "cell_type": "code",
   "execution_count": 16,
   "id": "b0aaa7d5",
   "metadata": {},
   "outputs": [],
   "source": [
    "# Standartize the dataset\n",
    "scale = StandardScaler()\n",
    "x_scaled = scale.fit_transform(X)"
   ]
  },
  {
   "cell_type": "code",
   "execution_count": 17,
   "id": "42e297b3",
   "metadata": {},
   "outputs": [
    {
     "name": "stdout",
     "output_type": "stream",
     "text": [
      "cumulative explained variance ratio = 0.8909\n"
     ]
    }
   ],
   "source": [
    "# Use PCA only for visualization\n",
    "pca = PCA(n_components=35, whiten=True)\n",
    "x_pca = pca.fit_transform(x_scaled)\n",
    "print(\"cumulative explained variance ratio = {:.4f}\".format(np.sum(pca.explained_variance_ratio_)))"
   ]
  },
  {
   "cell_type": "code",
   "execution_count": 18,
   "id": "7be452bb",
   "metadata": {},
   "outputs": [],
   "source": [
    "# Use LDA only for visualization\n",
    "lda = LDA()\n",
    "x_lda = lda.fit_transform(x_scaled, y)"
   ]
  },
  {
   "cell_type": "code",
   "execution_count": 19,
   "id": "c0a4c44f",
   "metadata": {},
   "outputs": [
    {
     "name": "stdout",
     "output_type": "stream",
     "text": [
      "[t-SNE] Computing 91 nearest neighbors...\n",
      "[t-SNE] Indexed 1252 samples in 0.005s...\n",
      "[t-SNE] Computed neighbors for 1252 samples in 0.117s...\n",
      "[t-SNE] Computed conditional probabilities for sample 1000 / 1252\n",
      "[t-SNE] Computed conditional probabilities for sample 1252 / 1252\n",
      "[t-SNE] Mean sigma: 3.130720\n",
      "[t-SNE] KL divergence after 250 iterations with early exaggeration: 63.766647\n",
      "[t-SNE] KL divergence after 1000 iterations: 0.698418\n"
     ]
    }
   ],
   "source": [
    "# Using tsne\n",
    "tsne = TSNE(n_components=2, verbose=1, learning_rate=250)\n",
    "x_tsne = tsne.fit_transform(x_scaled)"
   ]
  },
  {
   "cell_type": "code",
   "execution_count": 20,
   "id": "c4ed74fe",
   "metadata": {},
   "outputs": [
    {
     "data": {
      "image/png": "[encoded data removed]",
      "text/plain": [
       "<Figure size 1296x288 with 6 Axes>"
      ]
     },
     "metadata": {
      "needs_background": "light"
     },
     "output_type": "display_data"
    }
   ],
   "source": [
    "plt.figure(figsize=(18, 4))\n",
    "plt.subplot(131)\n",
    "plt.scatter(x_pca[:,0], x_pca[:,1], c=y)\n",
    "plt.colorbar()\n",
    "plt.title(\"Embedded space with PCA\")\n",
    "\n",
    "plt.subplot(132)\n",
    "plt.scatter(x_lda[:,0], x_lda[:,1], c=y)\n",
    "plt.colorbar()\n",
    "plt.title(\"Embedded space with LDA\")\n",
    "\n",
    "plt.subplot(133)\n",
    "plt.scatter(x_tsne[:,0], x_tsne[:,1], c=y)\n",
    "plt.colorbar()\n",
    "plt.title(\"Embedded space with TSNE\")\n",
    "plt.show()"
   ]
  },
  {
   "cell_type": "markdown",
   "id": "8727ce1f",
   "metadata": {},
   "source": [
    "### Classical Machine Learning"
   ]
  },
  {
   "cell_type": "code",
   "execution_count": 21,
   "id": "4b70d96c",
   "metadata": {},
   "outputs": [],
   "source": [
    "# Helper to plot confusion matrix -- from Scikit-learn website\n",
    "def plot_confusion_matrix(cm, classes,\n",
    "                          normalize=False,\n",
    "                          title='Confusion matrix',\n",
    "                          cmap=plt.cm.Blues):\n",
    "    \"\"\"\n",
    "    This function prints and plots the confusion matrix.\n",
    "    Normalization can be applied by setting `normalize=True`.\n",
    "    \"\"\"\n",
    "    if normalize:\n",
    "        cm = cm.astype('float') / cm.sum(axis=1)[:, np.newaxis]\n",
    "\n",
    "    plt.imshow(cm, interpolation='nearest', cmap=cmap)\n",
    "    plt.title(title)\n",
    "    plt.colorbar()\n",
    "    tick_marks = np.arange(len(classes))\n",
    "    plt.xticks(tick_marks, classes, rotation=45)\n",
    "    plt.yticks(tick_marks, classes)\n",
    "\n",
    "    fmt = '.2f' if normalize else 'd'\n",
    "    thresh = cm.max() / 2.\n",
    "    for i, j in itertools.product(range(cm.shape[0]), range(cm.shape[1])):\n",
    "        plt.text(j, i, format(cm[i, j], fmt),\n",
    "                 horizontalalignment=\"center\",\n",
    "                 color=\"white\" if cm[i, j] > thresh else \"black\")\n",
    "\n",
    "    plt.ylabel('True label')\n",
    "    plt.xlabel('Predicted label')\n",
    "    plt.show()"
   ]
  },
  {
   "cell_type": "code",
   "execution_count": 22,
   "id": "601cd299",
   "metadata": {},
   "outputs": [],
   "source": [
    "X_train, X_test, y_train, y_test = train_test_split(X, y, stratify=y)"
   ]
  },
  {
   "cell_type": "markdown",
   "id": "eb354d27",
   "metadata": {},
   "source": [
    "LOGISTIC REGRESSION"
   ]
  },
  {
   "cell_type": "code",
   "execution_count": 23,
   "id": "216c0409",
   "metadata": {},
   "outputs": [
    {
     "name": "stderr",
     "output_type": "stream",
     "text": [
      "C:\\Users\\User\\anaconda3\\lib\\site-packages\\sklearn\\model_selection\\_search.py:918: UserWarning: One or more of the test scores are non-finite: [       nan 0.91054728        nan 0.912692          nan 0.90843099\n",
      "        nan 0.90416999]\n",
      "  warnings.warn(\n"
     ]
    },
    {
     "data": {
      "text/plain": [
       "GridSearchCV(cv=5,\n",
       "             estimator=Pipeline(steps=[('scale', StandardScaler()),\n",
       "                                       ('var_tresh',\n",
       "                                        VarianceThreshold(threshold=0.15999999999999998)),\n",
       "                                       ('feature_selection',\n",
       "                                        SelectFromModel(estimator=LGBMClassifier())),\n",
       "                                       ('cls', LogisticRegression())]),\n",
       "             n_jobs=6,\n",
       "             param_grid={'cls__C': [0.5, 1, 2, 5], 'cls__max_iter': [500],\n",
       "                         'cls__penalty': ['l1', 'l2']},\n",
       "             scoring='accuracy')"
      ]
     },
     "execution_count": 23,
     "metadata": {},
     "output_type": "execute_result"
    }
   ],
   "source": [
    "params = {\n",
    "    \"cls__penalty\": [\"l1\", \"l2\"],\n",
    "    \"cls__C\": [0.5, 1, 2, 5],\n",
    "    \"cls__max_iter\": [500]\n",
    "}\n",
    "\n",
    "pipe_lr = Pipeline([\n",
    "    ('scale', StandardScaler()),\n",
    "    ('var_tresh', VarianceThreshold(threshold=(.8 * (1 - .8)))),\n",
    "    ('feature_selection', SelectFromModel(lgbm.LGBMClassifier())),\n",
    "    ('cls', LogisticRegression())\n",
    "])\n",
    "\n",
    "grid_lr = GridSearchCV(pipe_lr, params, scoring='accuracy', n_jobs=6, cv=5)\n",
    "grid_lr.fit(X_train, y_train)"
   ]
  },
  {
   "cell_type": "code",
   "execution_count": 24,
   "id": "1761bd47",
   "metadata": {
    "scrolled": true
   },
   "outputs": [
    {
     "name": "stdout",
     "output_type": "stream",
     "text": [
      "best score on validation set (accuracy) = 0.9127\n",
      "best score on test set (accuracy) = 0.9137\n"
     ]
    }
   ],
   "source": [
    "preds_lr = grid_lr.predict(X_test)\n",
    "print(\"best score on validation set (accuracy) = {:.4f}\".format(grid_lr.best_score_))\n",
    "print(\"best score on test set (accuracy) = {:.4f}\".format(accuracy_score(y_test, preds_lr)))"
   ]
  },
  {
   "cell_type": "code",
   "execution_count": 25,
   "id": "fcae19df",
   "metadata": {},
   "outputs": [
    {
     "data": {
      "text/plain": [
       "array([1, 3, 2, 0, 5, 7, 5, 2, 0, 7, 0, 1, 6, 6, 3, 1, 4, 5, 6, 0, 6, 5,\n",
       "       4, 7, 0, 2, 2, 5, 1, 3, 7, 6, 3, 4, 1, 3, 4, 3, 0, 7, 3, 3, 3, 1,\n",
       "       6, 7, 6, 3, 5, 4, 3, 1, 1, 5, 1, 1, 1, 2, 6, 2, 5, 7, 2, 1, 3, 2,\n",
       "       2, 1, 7, 1, 3, 1, 0, 7, 6, 5, 2, 6, 6, 0, 5, 2, 2, 5, 5, 1, 5, 7,\n",
       "       4, 0, 7, 3, 0, 0, 7, 7, 7, 7, 1, 1, 5, 2, 0, 4, 3, 0, 1, 1, 4, 5,\n",
       "       6, 5, 3, 1, 2, 3, 0, 2, 5, 1, 7, 3, 2, 3, 3, 1, 1, 4, 2, 1, 4, 0,\n",
       "       4, 4, 2, 1, 1, 0, 0, 0, 2, 2, 1, 2, 6, 1, 6, 7, 1, 3, 0, 5, 1, 0,\n",
       "       4, 7, 7, 2, 2, 6, 6, 3, 7, 5, 5, 1, 5, 7, 1, 6, 2, 6, 1, 5, 4, 7,\n",
       "       2, 4, 1, 6, 7, 1, 7, 5, 2, 0, 1, 1, 0, 0, 6, 1, 2, 1, 7, 5, 7, 7,\n",
       "       1, 5, 4, 1, 5, 7, 7, 6, 2, 0, 1, 2, 1, 1, 1, 3, 0, 3, 2, 7, 1, 0,\n",
       "       5, 6, 6, 0, 1, 2, 5, 6, 6, 1, 4, 2, 1, 1, 3, 2, 7, 0, 1, 6, 5, 6,\n",
       "       6, 7, 7, 5, 7, 0, 5, 0, 2, 7, 6, 3, 6, 1, 5, 5, 2, 3, 7, 4, 7, 3,\n",
       "       1, 1, 7, 3, 7, 3, 6, 0, 4, 5, 3, 2, 1, 6, 3, 5, 0, 1, 0, 7, 6, 6,\n",
       "       6, 1, 0, 2, 4, 4, 1, 2, 5, 6, 7, 2, 0, 2, 1, 1, 5, 7, 0, 6, 0, 1,\n",
       "       0, 1, 0, 0, 1], dtype=int64)"
      ]
     },
     "execution_count": 25,
     "metadata": {},
     "output_type": "execute_result"
    }
   ],
   "source": [
    "preds_lr"
   ]
  },
  {
   "cell_type": "markdown",
   "id": "20a3199b",
   "metadata": {},
   "source": [
    "ELASTICNET"
   ]
  },
  {
   "cell_type": "code",
   "execution_count": 26,
   "id": "ceb44102",
   "metadata": {},
   "outputs": [
    {
     "data": {
      "text/plain": [
       "GridSearchCV(cv=5,\n",
       "             estimator=Pipeline(steps=[('scale', StandardScaler()),\n",
       "                                       ('var_tresh',\n",
       "                                        VarianceThreshold(threshold=0.15999999999999998)),\n",
       "                                       ('feature_selection',\n",
       "                                        SelectFromModel(estimator=LGBMClassifier())),\n",
       "                                       ('cls', SGDClassifier())]),\n",
       "             n_jobs=6,\n",
       "             param_grid={'cls__l1_ratio': [0.15, 0.25, 0.5, 0.75],\n",
       "                         'cls__loss': ['log'], 'cls__penalty': ['elasticnet']},\n",
       "             scoring='accuracy')"
      ]
     },
     "execution_count": 26,
     "metadata": {},
     "output_type": "execute_result"
    }
   ],
   "source": [
    "params = {\n",
    "    \"cls__loss\": ['log'],\n",
    "    \"cls__penalty\": [\"elasticnet\"],\n",
    "    \"cls__l1_ratio\": [0.15, 0.25, 0.5, 0.75],\n",
    "}\n",
    "\n",
    "pipe_en = Pipeline([\n",
    "    ('scale', StandardScaler()),\n",
    "    ('var_tresh', VarianceThreshold(threshold=(.8 * (1 - .8)))),\n",
    "    ('feature_selection', SelectFromModel(lgbm.LGBMClassifier())),\n",
    "    ('cls', SGDClassifier())\n",
    "])\n",
    "\n",
    "grid_en = GridSearchCV(pipe_en, params, scoring='accuracy', n_jobs=6, cv=5)\n",
    "grid_en.fit(X_train, y_train)"
   ]
  },
  {
   "cell_type": "code",
   "execution_count": 27,
   "id": "ae255ef7",
   "metadata": {},
   "outputs": [
    {
     "name": "stdout",
     "output_type": "stream",
     "text": [
      "best score on validation set (accuracy) = 0.8925\n",
      "best score on test set (accuracy) = 0.8658\n"
     ]
    }
   ],
   "source": [
    "preds_en = grid_en.predict(X_test)\n",
    "print(\"best score on validation set (accuracy) = {:.4f}\".format(grid_en.best_score_))\n",
    "print(\"best score on test set (accuracy) = {:.4f}\".format(accuracy_score(y_test, preds_en)))"
   ]
  },
  {
   "cell_type": "markdown",
   "id": "b9e1e6c9",
   "metadata": {},
   "source": [
    "CART"
   ]
  },
  {
   "cell_type": "code",
   "execution_count": 28,
   "id": "89c5522e",
   "metadata": {},
   "outputs": [
    {
     "data": {
      "text/plain": [
       "GridSearchCV(cv=5,\n",
       "             estimator=Pipeline(steps=[('var_tresh',\n",
       "                                        VarianceThreshold(threshold=0.15999999999999998)),\n",
       "                                       ('feature_selection',\n",
       "                                        SelectFromModel(estimator=LGBMClassifier())),\n",
       "                                       ('cls', DecisionTreeClassifier())]),\n",
       "             n_jobs=6,\n",
       "             param_grid={'cls__criterion': ['gini', 'entropy'],\n",
       "                         'cls__splitter': ['best', 'random']},\n",
       "             scoring='accuracy')"
      ]
     },
     "execution_count": 28,
     "metadata": {},
     "output_type": "execute_result"
    }
   ],
   "source": [
    "params = {\n",
    "    \"cls__criterion\": [\"gini\", \"entropy\"],\n",
    "    \"cls__splitter\": [\"best\", \"random\"],\n",
    "}\n",
    "\n",
    "pipe_cart = Pipeline([\n",
    "    ('var_tresh', VarianceThreshold(threshold=(.8 * (1 - .8)))),\n",
    "    ('feature_selection', SelectFromModel(lgbm.LGBMClassifier())),\n",
    "    ('cls', DecisionTreeClassifier())\n",
    "])\n",
    "\n",
    "grid_cart = GridSearchCV(pipe_cart, params, scoring='accuracy', n_jobs=6, cv=5)\n",
    "grid_cart.fit(X_train, y_train)"
   ]
  },
  {
   "cell_type": "code",
   "execution_count": 29,
   "id": "145440ad",
   "metadata": {},
   "outputs": [
    {
     "name": "stdout",
     "output_type": "stream",
     "text": [
      "best score on validation set (accuracy) = 0.8424\n",
      "best score on test set (accuracy) = 0.8211\n"
     ]
    }
   ],
   "source": [
    "preds_cart = grid_cart.predict(X_test)\n",
    "print(\"best score on validation set (accuracy) = {:.4f}\".format(grid_cart.best_score_))\n",
    "print(\"best score on test set (accuracy) = {:.4f}\".format(accuracy_score(y_test, preds_cart)))"
   ]
  },
  {
   "cell_type": "markdown",
   "id": "17105f54",
   "metadata": {},
   "source": [
    "RANDOM FOREST"
   ]
  },
  {
   "cell_type": "code",
   "execution_count": 30,
   "id": "b36ea055",
   "metadata": {},
   "outputs": [
    {
     "data": {
      "text/plain": [
       "GridSearchCV(cv=5,\n",
       "             estimator=Pipeline(steps=[('var_tresh',\n",
       "                                        VarianceThreshold(threshold=0.15999999999999998)),\n",
       "                                       ('feature_selection',\n",
       "                                        SelectFromModel(estimator=LGBMClassifier())),\n",
       "                                       ('cls', RandomForestClassifier())]),\n",
       "             n_jobs=6,\n",
       "             param_grid={'cls__criterion': ['gini', 'entropy'],\n",
       "                         'cls__max_depth': [5, 7, None],\n",
       "                         'cls__n_estimators': [100, 250, 500, 1000]},\n",
       "             scoring='accuracy')"
      ]
     },
     "execution_count": 30,
     "metadata": {},
     "output_type": "execute_result"
    }
   ],
   "source": [
    "params = {\n",
    "    \"cls__n_estimators\": [100, 250, 500, 1000],\n",
    "    \"cls__criterion\": [\"gini\", \"entropy\"],\n",
    "    \"cls__max_depth\": [5, 7, None]\n",
    "}\n",
    "\n",
    "pipe_rf = Pipeline([\n",
    "    ('var_tresh', VarianceThreshold(threshold=(.8 * (1 - .8)))),\n",
    "    ('feature_selection', SelectFromModel(lgbm.LGBMClassifier())),\n",
    "    ('cls', RandomForestClassifier())\n",
    "])\n",
    "\n",
    "grid_rf = GridSearchCV(pipe_rf, params, scoring='accuracy', n_jobs=6, cv=5)\n",
    "grid_rf.fit(X_train, y_train)"
   ]
  },
  {
   "cell_type": "code",
   "execution_count": 31,
   "id": "e77b98aa",
   "metadata": {},
   "outputs": [
    {
     "name": "stdout",
     "output_type": "stream",
     "text": [
      "best score on validation set (accuracy) = 0.9574\n",
      "best score on test set (accuracy) = 0.9521\n"
     ]
    }
   ],
   "source": [
    "preds_rf = grid_rf.predict(X_test)\n",
    "print(\"best score on validation set (accuracy) = {:.4f}\".format(grid_rf.best_score_))\n",
    "print(\"best score on test set (accuracy) = {:.4f}\".format(accuracy_score(y_test, preds_rf)))"
   ]
  },
  {
   "cell_type": "markdown",
   "id": "96e66314",
   "metadata": {},
   "source": [
    "SVM"
   ]
  },
  {
   "cell_type": "code",
   "execution_count": 32,
   "id": "2a84852e",
   "metadata": {},
   "outputs": [
    {
     "data": {
      "text/plain": [
       "GridSearchCV(cv=5,\n",
       "             estimator=Pipeline(steps=[('scale', StandardScaler()),\n",
       "                                       ('var_tresh',\n",
       "                                        VarianceThreshold(threshold=0.15999999999999998)),\n",
       "                                       ('feature_selection',\n",
       "                                        SelectFromModel(estimator=LGBMClassifier())),\n",
       "                                       ('cls', SVC())]),\n",
       "             n_jobs=6,\n",
       "             param_grid={'cls__C': [0.5, 1, 2, 5],\n",
       "                         'cls__kernel': ['rbf', 'linear', 'sigmoid']},\n",
       "             scoring='accuracy')"
      ]
     },
     "execution_count": 32,
     "metadata": {},
     "output_type": "execute_result"
    }
   ],
   "source": [
    "params = {\n",
    "    \"cls__C\": [0.5, 1, 2, 5],\n",
    "    \"cls__kernel\": ['rbf', 'linear', 'sigmoid'],\n",
    "}\n",
    "\n",
    "pipe_svm = Pipeline([\n",
    "    ('scale', StandardScaler()),\n",
    "    ('var_tresh', VarianceThreshold(threshold=(.8 * (1 - .8)))),\n",
    "    ('feature_selection', SelectFromModel(lgbm.LGBMClassifier())),\n",
    "    ('cls', SVC())\n",
    "])\n",
    "\n",
    "grid_svm = GridSearchCV(pipe_svm, params, scoring='accuracy', n_jobs=6, cv=5)\n",
    "grid_svm.fit(X_train, y_train)"
   ]
  },
  {
   "cell_type": "code",
   "execution_count": 33,
   "id": "ccc185b9",
   "metadata": {},
   "outputs": [
    {
     "name": "stdout",
     "output_type": "stream",
     "text": [
      "best score on validation set (accuracy) = 0.9649\n",
      "best score on test set (accuracy) = 0.9808\n"
     ]
    }
   ],
   "source": [
    "preds_svm = grid_svm.predict(X_test)\n",
    "print(\"best score on validation set (accuracy) = {:.4f}\".format(grid_svm.best_score_))\n",
    "print(\"best score on test set (accuracy) = {:.4f}\".format(accuracy_score(y_test, preds_svm)))"
   ]
  },
  {
   "cell_type": "code",
   "execution_count": 34,
   "id": "f81e67ac",
   "metadata": {},
   "outputs": [
    {
     "data": {
      "text/plain": [
       "array([1, 3, 2, 0, 5, 7, 5, 2, 0, 7, 0, 1, 6, 6, 3, 5, 4, 5, 6, 0, 6, 5,\n",
       "       4, 7, 0, 2, 2, 5, 5, 3, 7, 6, 1, 4, 1, 3, 4, 3, 0, 7, 3, 3, 3, 1,\n",
       "       6, 7, 6, 3, 5, 4, 3, 1, 1, 5, 1, 1, 1, 2, 6, 2, 5, 7, 2, 1, 3, 2,\n",
       "       2, 1, 7, 2, 3, 1, 0, 7, 6, 5, 2, 6, 6, 0, 5, 2, 2, 5, 1, 1, 5, 7,\n",
       "       4, 0, 7, 3, 0, 0, 7, 7, 7, 7, 1, 1, 5, 2, 0, 4, 3, 0, 1, 1, 4, 1,\n",
       "       6, 5, 3, 1, 2, 3, 0, 2, 5, 1, 7, 3, 2, 3, 3, 1, 1, 4, 2, 1, 4, 0,\n",
       "       4, 4, 2, 7, 1, 0, 0, 7, 2, 2, 1, 2, 6, 7, 6, 7, 1, 3, 0, 5, 0, 0,\n",
       "       4, 7, 7, 2, 2, 6, 6, 3, 6, 5, 5, 1, 5, 7, 1, 6, 2, 6, 1, 5, 4, 7,\n",
       "       2, 4, 1, 6, 7, 0, 7, 5, 2, 0, 1, 1, 0, 0, 6, 1, 2, 7, 7, 5, 7, 7,\n",
       "       3, 5, 4, 1, 5, 7, 7, 6, 2, 0, 1, 2, 1, 1, 1, 5, 0, 3, 2, 7, 1, 0,\n",
       "       5, 6, 6, 5, 6, 2, 5, 6, 5, 1, 4, 2, 1, 1, 3, 2, 7, 0, 5, 6, 7, 6,\n",
       "       6, 7, 7, 5, 7, 0, 5, 0, 2, 7, 6, 3, 6, 1, 5, 5, 2, 3, 7, 4, 7, 5,\n",
       "       1, 1, 7, 3, 7, 3, 6, 0, 4, 5, 3, 2, 1, 6, 3, 5, 0, 1, 0, 7, 5, 6,\n",
       "       6, 1, 0, 2, 4, 4, 1, 2, 5, 6, 7, 2, 0, 2, 1, 1, 5, 7, 0, 6, 0, 1,\n",
       "       0, 1, 0, 0, 1], dtype=int64)"
      ]
     },
     "execution_count": 34,
     "metadata": {},
     "output_type": "execute_result"
    }
   ],
   "source": [
    "preds_svm"
   ]
  }
 ],
 "metadata": {
  "kernelspec": {
   "display_name": "Python 3",
   "language": "python",
   "name": "python3"
  },
  "language_info": {
   "codemirror_mode": {
    "name": "ipython",
    "version": 3
   },
   "file_extension": ".py",
   "mimetype": "text/x-python",
   "name": "python",
   "nbconvert_exporter": "python",
   "pygments_lexer": "ipython3",
   "version": "3.8.8"
  }
 },
 "nbformat": 4,
 "nbformat_minor": 5
}
